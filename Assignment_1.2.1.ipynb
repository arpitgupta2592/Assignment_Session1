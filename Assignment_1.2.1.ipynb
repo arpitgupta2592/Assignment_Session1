{
 "cells": [
  {
   "cell_type": "code",
   "execution_count": 1,
   "metadata": {},
   "outputs": [
    {
     "name": "stdin",
     "output_type": "stream",
     "text": [
      "Enter the comma separated numbers:  1,2,8555,2,33,111,55\n"
     ]
    },
    {
     "name": "stdout",
     "output_type": "stream",
     "text": [
      "List is:  ['1', '2', '8555', '2', '33', '111', '55']\n"
     ]
    }
   ],
   "source": [
    "\"\"\"\n",
    "Write a program which accepts a sequence of comma-separated numbers from console and\n",
    "generate a list.\n",
    "\"\"\"\n",
    "\n",
    "a=input(\"Enter the comma separated numbers: \")\n",
    "list= a.split(',')\n",
    "print('List is: ' ,list)"
   ]
  },
  {
   "cell_type": "code",
   "execution_count": null,
   "metadata": {},
   "outputs": [],
   "source": []
  }
 ],
 "metadata": {
  "kernelspec": {
   "display_name": "Python 3",
   "language": "python",
   "name": "python3"
  },
  "language_info": {
   "codemirror_mode": {
    "name": "ipython",
    "version": 3
   },
   "file_extension": ".py",
   "mimetype": "text/x-python",
   "name": "python",
   "nbconvert_exporter": "python",
   "pygments_lexer": "ipython3",
   "version": "3.7.1"
  }
 },
 "nbformat": 4,
 "nbformat_minor": 2
}
